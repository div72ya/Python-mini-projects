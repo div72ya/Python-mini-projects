{
  "nbformat": 4,
  "nbformat_minor": 0,
  "metadata": {
    "colab": {
      "provenance": []
    },
    "kernelspec": {
      "name": "python3",
      "display_name": "Python 3"
    },
    "language_info": {
      "name": "python"
    }
  },
  "cells": [
    {
      "cell_type": "code",
      "execution_count": null,
      "metadata": {
        "id": "OQ1wannBElOk"
      },
      "outputs": [],
      "source": [
        "# writing code to convert dollars into indian ruppee\n",
        "while True:\n",
        "  dollar = input(\"Enter the amount to convert($) or enter (stop/exit) to exit the loop:- \").lower()     #canadian dollar\n",
        "  if dollar == ('stop') or dollar == ('exit'):\n",
        "    print(\"you have exited the loop\")\n",
        "    break\n",
        "  else:\n",
        "    ruppe = float(dollar)*62.80\n",
        "    print(ruppe)"
      ]
    },
    {
      "cell_type": "code",
      "source": [
        "# pomodoro timer app ------>  25 minutes work → ☕ 5 minutes break → Repeat After 4 sessions → take a longer break (e.g., 15 minutes)\n",
        "import datetime , time\n",
        "from datetime import datetime , timedelta\n",
        "\n",
        "while True:\n",
        "  n = input(\"Enter the number of task that you want to perform or enter (stop/exit) to stop the program:- \")\n",
        "  if n == 'stop' or n == 'exit':\n",
        "    break\n",
        "  else:\n",
        "    # create a list of dictionaries for each task\n",
        "    tasks = []\n",
        "    for i in range(int(n)):\n",
        "      task_name = input(\"Enter task name:- \")\n",
        "      try:\n",
        "        task_duration = float(input(\"Enter the time (in minutes):- \"))\n",
        "        break_time = float(input(\"Enter the break time that you want to take(in minutes):- \"))\n",
        "      except ValueError:\n",
        "        print(\"Invalid input. Please enter a valid number.\")\n",
        "        continue\n",
        "\n",
        "      task={\n",
        "          'name':task_name,\n",
        "          'duration':task_duration,\n",
        "          'break':break_time\n",
        "      }\n",
        "\n",
        "      # append each task into list of dictionaries\n",
        "      tasks.append(task)\n",
        "\n",
        "    for index, task in enumerate(tasks):\n",
        "      current_time = datetime.now()\n",
        "      time_after_work = current_time + timedelta(minutes = task['duration'])\n",
        "      print(f\"\\n\\nTask to be done {index+1}: {task['name']}\")\n",
        "      print(f\"Time when task has been started: {current_time.strftime('%H:%M:%S')}\")\n",
        "      print(f\"Time when task has to be completed: {time_after_work.strftime('%H:%M:%S')}\\n\\n\")\n",
        "      time.sleep(task['duration']*60)\n",
        "\n",
        "      if (index + 1) % 4 == 0:\n",
        "        print(\"\\nTime for a long break! (15 mins)\\n\\n\")\n",
        "        time.sleep(15 * 60)\n",
        "      else:\n",
        "        print(f\"\\nTask has been completed take a {task['break']} min break\\n\\n\")\n",
        "        time.sleep(task['break']*60)\n",
        "\n",
        "      print(\"\\nBreak complete!\\n\")\n",
        "\n",
        "    print(\"\\nAll tasks completed! For this session\\n\")"
      ],
      "metadata": {
        "id": "b1qXEDoaEyEN"
      },
      "execution_count": null,
      "outputs": []
    },
    {
      "cell_type": "code",
      "source": [
        "8# Rectangle area\n",
        "while True:\n",
        "  area = input('enter yes if want to calculate area otherwise enter no:- ').lower()\n",
        "  if area == 'no':\n",
        "    print('you have exited the loop')\n",
        "    break\n",
        "  else:\n",
        "    a = float(input(\"Enter the Width:- \"))\n",
        "    b = float(input(\"Enter the Height:- \"))\n",
        "    area = a*b\n",
        "    print(area)"
      ],
      "metadata": {
        "id": "8vtEoRNEE6GM"
      },
      "execution_count": null,
      "outputs": []
    },
    {
      "cell_type": "markdown",
      "source": [
        "# QUESTION:-\n",
        "A training lab has a rectangular size l x w meters, without columns on the inside. The hall is divided into two parts- left and right, with a hallway approximately in the middle. In both parts, there are rows with desks. In the back of the hall, there is a big entrance door. In the front, there is a podium for the lecturer. A single working place takes up 70 x 120 cm (a table with size 70 x 40 cm + space for a chair and passing through with size 70 x 80 cm). The hallway width is at least 100 cm. It is calculated that due to the entrance door (which has 160 cm opening) exactly one working space is lost, and due to the podium (which has a size of 160 x 120 cm) exactly two working spaces are lost. Write a program that reads the size of the training lab as input parameters and calculates the number of working places in it (look at the figure)."
      ],
      "metadata": {
        "id": "oAWav0ktHBQ4"
      }
    },
    {
      "cell_type": "code",
      "source": [
        "# Training Lab:-\n",
        "\n",
        "import math\n",
        "length = float(input(\"Enter the length in m:- \"))*100\n",
        "print(\"this is the length of the room:- \",length)\n",
        "width = float(input(\"Enter the width in m:- \"))*100\n",
        "print(\"this is the width of the roon:- \",width)\n",
        "area = length*width\n",
        "print(\"the area of the actual room:- \",area)\n",
        "\n",
        "#area that we need to subtract\n",
        "unwanted_area_covered = 70*120*3\n",
        "\n",
        "leftworkspace = (width - 100)         #after removing the hallway\n",
        "\n",
        "area1 = length*leftworkspace\n",
        "\n",
        "wanted_area = area1 - unwanted_area_covered\n",
        "print(wanted_area)\n",
        "\n",
        "desk_area = 70*120\n",
        "no_of_workplaces = wanted_area//desk_area\n",
        "print(\"total no of workplaces:- \",no_of_workplaces)"
      ],
      "metadata": {
        "id": "SLWFRgIlFPBt"
      },
      "execution_count": null,
      "outputs": []
    },
    {
      "cell_type": "code",
      "source": [
        "# validate username and password\n",
        "\n",
        "u_name = \"Divya\"\n",
        "password = 12345\n",
        "user_name = input(\"enter the valid username:- \")\n",
        "if user_name == u_name:\n",
        "  print(\"welcome user... now enter the password\")\n",
        "  p = 0\n",
        "  while p < 3:\n",
        "    Password = int(input(\"enter your password:- \"))\n",
        "    p += 1\n",
        "    if Password == password:\n",
        "      print(\"you have been successfully logged in \")\n",
        "      break\n",
        "    else:\n",
        "      print(\"Incorrect password...\",(3-p),\"attemps left5\")\n",
        "else:\n",
        "  print(\"incorrect username\")"
      ],
      "metadata": {
        "id": "L0Un2MIbHcAk"
      },
      "execution_count": null,
      "outputs": []
    },
    {
      "cell_type": "code",
      "source": [
        "# Metric Converter\n",
        "\n",
        "conversion_to_meter = {\n",
        "    \"m\": 1,\n",
        "    \"mm\": 0.001,\n",
        "    \"cm\": 0.01,\n",
        "    \"mi\": 1609.344,\n",
        "    \"in\": 0.0254,\n",
        "    \"km\": 1000,\n",
        "    \"ft\": 0.3048,\n",
        "    \"yd\": 0.9144\n",
        "}\n",
        "\n",
        "value = float(input(\"Enter the value to convert: \"))\n",
        "in_unit = input(\"Enter input unit (m, mm, cm, mi, in, km, ft, yd): \").lower()\n",
        "out_unit = input(\"Enter output unit (m, mm, cm, mi, in, km, ft, yd): \").lower()\n",
        "\n",
        "\n",
        "if in_unit not in conversion_to_meter or out_unit not in conversion_to_meter:\n",
        "    print(\"Invalid unit entered.\")\n",
        "else:\n",
        "    value_in_meters = value * conversion_to_meter[in_unit]\n",
        "    converted_value = value_in_meters / conversion_to_meter[out_unit]\n",
        "\n",
        "    print(f\"{value} {in_unit} = {converted_value} {out_unit}\")"
      ],
      "metadata": {
        "id": "UKdSaEsqIS3q"
      },
      "execution_count": null,
      "outputs": []
    },
    {
      "cell_type": "code",
      "source": [
        "# number 0....100 to text\n",
        "def number_to_words(n):\n",
        "    if not 0 <= n <= 100:\n",
        "        return \"Out of range\"\n",
        "\n",
        "    ones = [\"zero\", \"one\", \"two\", \"three\", \"four\", \"five\", \"six\", \"seven\",\n",
        "            \"eight\", \"nine\", \"ten\", \"eleven\", \"twelve\", \"thirteen\", \"fourteen\",\n",
        "            \"fifteen\", \"sixteen\", \"seventeen\", \"eighteen\", \"nineteen\"]\n",
        "\n",
        "    tens = [\"\", \"\", \"twenty\", \"thirty\", \"forty\", \"fifty\", \"sixty\",\n",
        "            \"seventy\", \"eighty\", \"ninety\"]\n",
        "\n",
        "    if n < 20:\n",
        "        return ones[n]\n",
        "    elif n < 100:\n",
        "        return tens[n // 10] + ('' if n % 10 == 0 else '-' + ones[n % 10])\n",
        "    elif n == 100:\n",
        "        return \"one hundred\"\n",
        "\n",
        "# Test:\n",
        "for i in range(0, 101):\n",
        "    print(f\"{i}: {number_to_words(i)}\")"
      ],
      "metadata": {
        "id": "M8QLU1BBIcv6"
      },
      "execution_count": null,
      "outputs": []
    },
    {
      "cell_type": "code",
      "source": [
        "# 1000 days after birth\n",
        "\n",
        "from datetime import datetime, timedelta\n",
        "\n",
        "birth_date_str = input(\"Enter your birth date (YYYY-MM-DD):- \")\n",
        "birth_date = datetime.strptime(birth_date_str, \"%Y-%m-%d\")\n",
        "\n",
        "thousand_days_later = birth_date + timedelta(days=1000)\n",
        "\n",
        "print(\"1000 days after your birth date will be:\", thousand_days_later.strftime(\"%Y-%m-%d\"))"
      ],
      "metadata": {
        "id": "TfFUiHM5Iovo"
      },
      "execution_count": null,
      "outputs": []
    },
    {
      "cell_type": "markdown",
      "source": [
        "# QUESTION:-\n",
        "System Health Monitor (System Automation + random + datetime)\n",
        "Objective\n",
        "Create a Python program that:\n",
        "1. Simulates the CPU usage percentage using random.uniform() (between 0 and 100).\n",
        "2. Logs the timestamp of each check using datetime.datetime.now().\n",
        "3. Raises a RuntimeError if CPU usage exceeds 85%, with a custom message like \"High CPU Usage\n",
        "Alert!\"\n",
        "4. Catches and logs the exception with try-except.\n",
        "5. Uses finally to print the log message \"System check completed at [timestamp]\".\n",
        "6. Logs should be saved to a file using the os module (e.g., os.path.join() to build the path)."
      ],
      "metadata": {
        "id": "9qcOXECaJbN_"
      }
    },
    {
      "cell_type": "code",
      "source": [
        "import datetime\n",
        "import os\n",
        "import random\n",
        "\n",
        "log_dir = \"logs\"\n",
        "os.makedirs(log_dir, exist_ok=True)  # Create logs directory if not exists\n",
        "log_file = os.path.join(log_dir, \"system_log.txt\")\n",
        "\n",
        "try:\n",
        "  CPU_usage_per = random.uniform(0,100)\n",
        "  timestamp = datetime.datetime.now()\n",
        "  if CPU_usage_per > 85:\n",
        "    raise RuntimeError(\"High CPU Usage Alert!\")\n",
        "except Exception as e:\n",
        "  print(e)\n",
        "else:\n",
        "      print(f\"CPU Usage: {CPU_usage_per}%\")\n",
        "      print(f\"Timestamp: {timestamp}\")\n",
        "finally:\n",
        "  print(f\"System check completed at {timestamp}\")"
      ],
      "metadata": {
        "id": "eW27GwVTJnAT"
      },
      "execution_count": null,
      "outputs": []
    },
    {
      "cell_type": "markdown",
      "source": [
        "# QUESTION:-\n",
        "Budget Report Analyzer (math + sys + File Handling)\n",
        "Objective\n",
        "Create a Python program that:\n",
        "1. Accepts a file path of a .txt or .csv file from the command-line argument using sys.argv.\n",
        "2. Reads numeric values (representing expenses) line by line and calculates total and average expense\n",
        "using the math module (math.fsum() if needed).\n",
        "3. Uses try-except to handle FileNotFoundError and ValueError during parsing.\n",
        "4. If the average expense exceeds a certain threshold (say ₹10,000), raise a ValueError with message\n",
        "\"High average expense detected!\"\n",
        "5. Uses else to print a summary if no exception occurs.\n",
        "6. Uses finally to log the analysis attempt timestamp using the datetime module.\n"
      ],
      "metadata": {
        "id": "r6cu42MsJpij"
      }
    },
    {
      "cell_type": "code",
      "source": [
        "import sys\n",
        "import os\n",
        "import math\n",
        "import datetime\n",
        "\n",
        "# Threshold for average expense\n",
        "THRESHOLD = 10000.0\n",
        "\n",
        "# Log file\n",
        "log_file = os.path.join(\"logs\", \"expense_log.txt\")\n",
        "os.makedirs(\"logs\", exist_ok=True)  # Create logs directory if needed\n",
        "\n",
        "try:\n",
        "    # Step 1: Get file from command-line argument\n",
        "    if len(sys.argv) < 2:\n",
        "        raise ValueError(\"Please provide a file path as a command-line argument.\")\n",
        "\n",
        "    filepath = sys.argv[1]\n",
        "\n",
        "    # Step 2: Read expenses from file\n",
        "    with open(filepath, \"r\") as file:\n",
        "        lines = file.readlines()\n",
        "        expenses = []\n",
        "        for line in lines:\n",
        "            stripped = line.strip()\n",
        "            if stripped:  # skip empty lines\n",
        "                try:\n",
        "                    expenses.append(float(stripped))\n",
        "                except ValueError:\n",
        "                    raise ValueError(f\"Invalid number found in file: {stripped}\")\n",
        "\n",
        "        if not expenses:\n",
        "            raise ValueError(\"No numeric expenses found in the file.\")\n",
        "\n",
        "        # Step 3: Calculate total and average\n",
        "        total = math.fsum(expenses)\n",
        "        average = total / len(expenses)\n",
        "\n",
        "        if average > THRESHOLD:\n",
        "            raise ValueError(\"High average expense detected!\")\n",
        "\n",
        "except FileNotFoundError:\n",
        "    print(\"Error: File not found.\")\n",
        "except ValueError as ve:\n",
        "    print(\"Error:\", ve)\n",
        "else:\n",
        "    print(\"\\n--- Expense Summary ---\")\n",
        "    print(f\"Total Expenses: ₹{total:.2f}\")\n",
        "    print(f\"Average Expense: ₹{average:.2f}\")\n",
        "finally:\n",
        "    timestamp = datetime.datetime.now()\n",
        "    with open(log_file, \"a\") as log:\n",
        "        log.write(f\"[{timestamp}] Analysis attempted on file: {sys.argv[1] if len(sys.argv) > 1 else 'N/A'}\\n\")\n",
        "    print(f\"\\nAnalysis attempted at {timestamp}\")"
      ],
      "metadata": {
        "id": "mXZBOQt4J3M2"
      },
      "execution_count": null,
      "outputs": []
    }
  ]
}